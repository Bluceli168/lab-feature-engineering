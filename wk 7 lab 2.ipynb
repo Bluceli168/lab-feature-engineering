{
 "cells": [
  {
   "cell_type": "code",
   "execution_count": 36,
   "id": "4280d2c3-8424-4e1b-bc40-dc423b9daef1",
   "metadata": {},
   "outputs": [
    {
     "name": "stdout",
     "output_type": "stream",
     "text": [
      "Accuracy of this model is:0.7904689863842662\n"
     ]
    }
   ],
   "source": [
    "import pandas as pd\n",
    "import numpy as np\n",
    "\n",
    "spaceship = pd.read_csv(\"https://raw.githubusercontent.com/data-bootcamp-v4/data/main/spaceship_titanic.csv\")\n",
    "spaceship.head()\n",
    "\n",
    "spaceship.shape\n",
    "spaceship.dtypes\n",
    "spaceship.isnull().sum()\n",
    "spaceship.dropna(inplace=True)\n",
    "\n",
    "spaceship['Cabin']=spaceship['Cabin'].str[0]\n",
    "spaceship=spaceship.drop(['PassengerId','Name'],axis =1)\n",
    "\n",
    "\n",
    "spaceship_with_dummies = pd.get_dummies(spaceship,drop_first=True)\n",
    "X = spaceship_with_dummies.drop('Transported',axis=1)\n",
    "y = spaceship_with_dummies['Transported']\n",
    "\n",
    "from sklearn.model_selection import train_test_split\n",
    "X_train,X_test,y_train,y_test = train_test_split(X,y,test_size =0.2,random_state=42)\n",
    "\n",
    "from sklearn.neighbors import KNeighborsClassifier\n",
    "knn = KNeighborsClassifier(n_neighbors=5)\n",
    "knn.fit(X_train,y_train)\n",
    "y_pred= knn.predict(X_test)\n",
    "\n",
    "from sklearn.metrics import accuracy_score\n",
    "accuracy = accuracy_score(y_test,y_pred)\n",
    "print(f\"Accuracy of this model is:{accuracy}\")\n"
   ]
  },
  {
   "cell_type": "code",
   "execution_count": null,
   "id": "d2b23949-fe36-4efb-90d6-fefa8c4b3ae3",
   "metadata": {},
   "outputs": [],
   "source": []
  }
 ],
 "metadata": {
  "kernelspec": {
   "display_name": "Python 3 (ipykernel)",
   "language": "python",
   "name": "python3"
  },
  "language_info": {
   "codemirror_mode": {
    "name": "ipython",
    "version": 3
   },
   "file_extension": ".py",
   "mimetype": "text/x-python",
   "name": "python",
   "nbconvert_exporter": "python",
   "pygments_lexer": "ipython3",
   "version": "3.12.4"
  }
 },
 "nbformat": 4,
 "nbformat_minor": 5
}
